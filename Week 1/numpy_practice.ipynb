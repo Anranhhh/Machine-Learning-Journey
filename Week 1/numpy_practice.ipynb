{
 "cells": [
  {
   "cell_type": "code",
   "execution_count": 465,
   "id": "3b0c81b0-e79c-4d6f-8563-122798792548",
   "metadata": {},
   "outputs": [],
   "source": [
    "import numpy as np"
   ]
  },
  {
   "cell_type": "markdown",
   "id": "d70c80f7-f582-46d1-9119-f50b037a67b2",
   "metadata": {},
   "source": [
    "# Numpy Arrays\n",
    "- Numpy arrays essentially come in two flavors: vectors and matrices. \n",
    "- Vectors are strictly 1-dimensional arrays and matrices are 2-dimensional"
   ]
  },
  {
   "cell_type": "code",
   "execution_count": 466,
   "id": "a7b12372-da1b-4c96-87ec-658d42a9f3d5",
   "metadata": {},
   "outputs": [
    {
     "data": {
      "text/plain": [
       "[1, 2, 3]"
      ]
     },
     "execution_count": 466,
     "metadata": {},
     "output_type": "execute_result"
    }
   ],
   "source": [
    "mylist = [1, 2, 3]\n",
    "mylist"
   ]
  },
  {
   "cell_type": "code",
   "execution_count": 467,
   "id": "cf4314da-39ff-49f7-a2fd-e78bccbf1677",
   "metadata": {},
   "outputs": [
    {
     "data": {
      "text/plain": [
       "array([1, 2, 3])"
      ]
     },
     "execution_count": 467,
     "metadata": {},
     "output_type": "execute_result"
    }
   ],
   "source": [
    "np.array(mylist)"
   ]
  },
  {
   "cell_type": "code",
   "execution_count": 468,
   "id": "730ef262-f40a-4725-982a-33b78d8dcc1d",
   "metadata": {},
   "outputs": [
    {
     "data": {
      "text/plain": [
       "[[1, 2], [3, 4]]"
      ]
     },
     "execution_count": 468,
     "metadata": {},
     "output_type": "execute_result"
    }
   ],
   "source": [
    "my_matrix = [[1,2], [3,4]]\n",
    "my_matrix"
   ]
  },
  {
   "cell_type": "code",
   "execution_count": 469,
   "id": "63edb119-31c7-430c-8715-745995dbb428",
   "metadata": {},
   "outputs": [
    {
     "data": {
      "text/plain": [
       "array([[1, 2],\n",
       "       [3, 4]])"
      ]
     },
     "execution_count": 469,
     "metadata": {},
     "output_type": "execute_result"
    }
   ],
   "source": [
    "np.array(my_matrix)"
   ]
  },
  {
   "cell_type": "markdown",
   "id": "efd2a0a9-1d20-4591-a6d7-72977e01a894",
   "metadata": {},
   "source": [
    "### Using built-in methods to generate Arrays\n",
    "\n",
    "#### arange: return evenly spaced values within a given interval\n",
    "#### - np.arange(start, stop, step, ...)\n",
    "- start: the starting value of the sequence\n",
    "- stop: the end value of the sequence\n",
    "- step: the spacing between values\n",
    "  \n",
    "note: it will automatically adjust the how many values to generate"
   ]
  },
  {
   "cell_type": "code",
   "execution_count": 470,
   "id": "261bc884-e806-4a00-971d-c92e17ae64b5",
   "metadata": {},
   "outputs": [
    {
     "data": {
      "text/plain": [
       "array([0, 1, 2, 3, 4, 5, 6, 7, 8, 9])"
      ]
     },
     "execution_count": 470,
     "metadata": {},
     "output_type": "execute_result"
    }
   ],
   "source": [
    "np.arange(0, 10) # starting from 0"
   ]
  },
  {
   "cell_type": "code",
   "execution_count": 471,
   "id": "ba267be1-f2ec-47bd-8277-78d22bb0e82d",
   "metadata": {},
   "outputs": [
    {
     "data": {
      "text/plain": [
       "array([ 0,  2,  4,  6,  8, 10])"
      ]
     },
     "execution_count": 471,
     "metadata": {},
     "output_type": "execute_result"
    }
   ],
   "source": [
    "np.arange(0, 12, 2) # the 3rd parameter indicates the space between returning values"
   ]
  },
  {
   "cell_type": "markdown",
   "id": "7bea11db-56a0-44a1-93f6-0e0ab4dc6171",
   "metadata": {},
   "source": [
    "#### linspace: return evenly spaced numbers over a specified interval\n",
    "#### - np.linspace(start, stop, num, ...)\n",
    "- start: the starting value of the sequence\n",
    "- stop: the end value of the sequence\n",
    "- num: the number of values to generate\n",
    "\n",
    "note: this will automatically determine how far apart to space the values"
   ]
  },
  {
   "cell_type": "code",
   "execution_count": 472,
   "id": "97cdf5a5-90fc-41c0-9d43-412ea0115447",
   "metadata": {},
   "outputs": [
    {
     "data": {
      "text/plain": [
       "array([ 0.,  5., 10.])"
      ]
     },
     "execution_count": 472,
     "metadata": {},
     "output_type": "execute_result"
    }
   ],
   "source": [
    "np.linspace(0,10,3)"
   ]
  },
  {
   "cell_type": "code",
   "execution_count": 473,
   "id": "27f46bfe-bb86-4b7b-98be-17f7d3220797",
   "metadata": {},
   "outputs": [
    {
     "data": {
      "text/plain": [
       "array([ 0. ,  2.5,  5. ,  7.5, 10. ])"
      ]
     },
     "execution_count": 473,
     "metadata": {},
     "output_type": "execute_result"
    }
   ],
   "source": [
    "np.linspace(0,10,5)"
   ]
  },
  {
   "cell_type": "markdown",
   "id": "35ba600a-fe11-4da8-9b96-1396bbd1e095",
   "metadata": {},
   "source": [
    "#### zeros and ones: generates arrays to zeroes or ones"
   ]
  },
  {
   "cell_type": "code",
   "execution_count": 474,
   "id": "32b5b431-1a6f-4def-88c6-872b6fe39ec3",
   "metadata": {},
   "outputs": [
    {
     "data": {
      "text/plain": [
       "array([1., 1., 1., 1., 1.])"
      ]
     },
     "execution_count": 474,
     "metadata": {},
     "output_type": "execute_result"
    }
   ],
   "source": [
    "np.ones(5)"
   ]
  },
  {
   "cell_type": "code",
   "execution_count": 475,
   "id": "36b42b34-e26b-41e0-98a3-8920afe05533",
   "metadata": {},
   "outputs": [
    {
     "data": {
      "text/plain": [
       "array([0., 0., 0., 0., 0.])"
      ]
     },
     "execution_count": 475,
     "metadata": {},
     "output_type": "execute_result"
    }
   ],
   "source": [
    "np.zeros(5)"
   ]
  },
  {
   "cell_type": "code",
   "execution_count": 476,
   "id": "7feddd25-88dd-4d51-bc57-577e905539a0",
   "metadata": {},
   "outputs": [
    {
     "data": {
      "text/plain": [
       "array([[1., 1., 1.],\n",
       "       [1., 1., 1.],\n",
       "       [1., 1., 1.]])"
      ]
     },
     "execution_count": 476,
     "metadata": {},
     "output_type": "execute_result"
    }
   ],
   "source": [
    "np.ones((3,3))"
   ]
  },
  {
   "cell_type": "code",
   "execution_count": 477,
   "id": "ef038bb1-f3ac-4ced-86ab-3a33125b8b05",
   "metadata": {},
   "outputs": [
    {
     "data": {
      "text/plain": [
       "array([[0., 0., 0.],\n",
       "       [0., 0., 0.],\n",
       "       [0., 0., 0.]])"
      ]
     },
     "execution_count": 477,
     "metadata": {},
     "output_type": "execute_result"
    }
   ],
   "source": [
    "np.zeros((3,3))"
   ]
  },
  {
   "cell_type": "markdown",
   "id": "550fed9e-ccda-4b2a-be20-6ee735494241",
   "metadata": {},
   "source": [
    "#### eye: creates an identity matrix"
   ]
  },
  {
   "cell_type": "code",
   "execution_count": 478,
   "id": "8fed13b3-c2ac-49ba-affa-8c963f34c272",
   "metadata": {},
   "outputs": [
    {
     "data": {
      "text/plain": [
       "array([[1., 0., 0., 0., 0.],\n",
       "       [0., 1., 0., 0., 0.],\n",
       "       [0., 0., 1., 0., 0.],\n",
       "       [0., 0., 0., 1., 0.],\n",
       "       [0., 0., 0., 0., 1.]])"
      ]
     },
     "execution_count": 478,
     "metadata": {},
     "output_type": "execute_result"
    }
   ],
   "source": [
    "np.eye(5)"
   ]
  },
  {
   "cell_type": "markdown",
   "id": "6a243097-a380-49fa-9127-b71cd272a098",
   "metadata": {},
   "source": [
    "#### Random: Numpy has lots of ways to create random number arrays:"
   ]
  },
  {
   "cell_type": "markdown",
   "id": "f7c8a222-899a-4445-865f-57f1114e6084",
   "metadata": {},
   "source": [
    "#### - rand: create an array of the given shape and populate it with random samples from a uniform distribution over [0, 1]"
   ]
  },
  {
   "cell_type": "code",
   "execution_count": 479,
   "id": "0a81aece-8dda-48fd-bf8d-441b2486fad9",
   "metadata": {},
   "outputs": [
    {
     "data": {
      "text/plain": [
       "array([0.50857238, 0.28181646, 0.24310239, 0.71944958, 0.15183299])"
      ]
     },
     "execution_count": 479,
     "metadata": {},
     "output_type": "execute_result"
    }
   ],
   "source": [
    "np.random.rand(5)"
   ]
  },
  {
   "cell_type": "code",
   "execution_count": 480,
   "id": "6e46bc0e-8720-4852-be9c-089dc2f9f827",
   "metadata": {},
   "outputs": [
    {
     "data": {
      "text/plain": [
       "array([[0.61001817, 0.90487907, 0.85156981],\n",
       "       [0.36548148, 0.99295377, 0.56193876],\n",
       "       [0.56487902, 0.39604666, 0.1261353 ]])"
      ]
     },
     "execution_count": 480,
     "metadata": {},
     "output_type": "execute_result"
    }
   ],
   "source": [
    "np.random.rand(3,3)"
   ]
  },
  {
   "cell_type": "markdown",
   "id": "26b91b3a-2812-44fe-b37b-0bacacdeaf1d",
   "metadata": {},
   "source": [
    "#### - randn: return a sample (or samples) from the \"standard normal\" distribution. Unlike randon which is uniform"
   ]
  },
  {
   "cell_type": "code",
   "execution_count": 481,
   "id": "f916d597-09d7-41ab-b8a6-262afd8d5175",
   "metadata": {},
   "outputs": [
    {
     "data": {
      "text/plain": [
       "array([ 0.47602453,  1.47782349, -0.6013046 ,  0.20606816, -0.06784239])"
      ]
     },
     "execution_count": 481,
     "metadata": {},
     "output_type": "execute_result"
    }
   ],
   "source": [
    "np.random.randn(5) # the randomly generated values are not limited over [0, 1]"
   ]
  },
  {
   "cell_type": "code",
   "execution_count": 482,
   "id": "5f66c8e4-2096-43ea-a789-ae9048004899",
   "metadata": {},
   "outputs": [
    {
     "data": {
      "text/plain": [
       "array([[ 0.19469576,  1.46770068, -1.77369932],\n",
       "       [-0.26208571, -1.85738319, -1.65911038],\n",
       "       [-0.58217518, -0.08884194,  0.81185247]])"
      ]
     },
     "execution_count": 482,
     "metadata": {},
     "output_type": "execute_result"
    }
   ],
   "source": [
    "np.random.randn(3,3)"
   ]
  },
  {
   "cell_type": "markdown",
   "id": "566ae258-9164-414c-aea2-7e48276710c0",
   "metadata": {},
   "source": [
    "#### - randint: return random integers from low(inclusive) to high(exclusive)\n",
    "#### np.random.randint(low, high, size)\n",
    "- low: lowest integer; but works as the highest integer if no highest integer\n",
    "- high: highest integer (optional)\n",
    "- size: output shape if it is an array (optional)"
   ]
  },
  {
   "cell_type": "code",
   "execution_count": 483,
   "id": "635cf511-b854-4a54-b25a-54897e437e4f",
   "metadata": {},
   "outputs": [
    {
     "data": {
      "text/plain": [
       "0"
      ]
     },
     "execution_count": 483,
     "metadata": {},
     "output_type": "execute_result"
    }
   ],
   "source": [
    "np.random.randint(10) # range [0 - 10)"
   ]
  },
  {
   "cell_type": "code",
   "execution_count": 484,
   "id": "04615fe5-afbb-4e28-a913-86b60ce8b558",
   "metadata": {},
   "outputs": [
    {
     "data": {
      "text/plain": [
       "41"
      ]
     },
     "execution_count": 484,
     "metadata": {},
     "output_type": "execute_result"
    }
   ],
   "source": [
    "np.random.randint(20, 50) # range [20 - 50)"
   ]
  },
  {
   "cell_type": "code",
   "execution_count": 485,
   "id": "6d2788ac-98a3-4a32-b600-b0afd5bcb0a7",
   "metadata": {},
   "outputs": [
    {
     "data": {
      "text/plain": [
       "array([40, 19, 16,  2, 30, 24,  6,  4,  1, 30])"
      ]
     },
     "execution_count": 485,
     "metadata": {},
     "output_type": "execute_result"
    }
   ],
   "source": [
    "np.random.randint(1, 50, 10) # array with range [1, 50)"
   ]
  },
  {
   "cell_type": "code",
   "execution_count": 486,
   "id": "cdb13f50-961b-4dcc-a0dd-dbc6f3c35d12",
   "metadata": {},
   "outputs": [
    {
     "data": {
      "text/plain": [
       "array([[39, 48, 49],\n",
       "       [13, 28, 15]])"
      ]
     },
     "execution_count": 486,
     "metadata": {},
     "output_type": "execute_result"
    }
   ],
   "source": [
    "np.random.randint(10, 50, (2,3)) # 2x3 array/matrix with range [10, 50)"
   ]
  },
  {
   "cell_type": "markdown",
   "id": "a43d0afb-e6bf-43ef-8695-21d0b8164b72",
   "metadata": {},
   "source": [
    "### Array Attributes & Methods\n",
    "#### - Reshape: returns an array containing the same original data with a new shape\n",
    "note: it does not change the original array"
   ]
  },
  {
   "cell_type": "code",
   "execution_count": 487,
   "id": "ddc82dc7-f835-4456-9708-75494ed11305",
   "metadata": {},
   "outputs": [
    {
     "data": {
      "text/plain": [
       "array([ 0,  1,  2,  3,  4,  5,  6,  7,  8,  9, 10, 11, 12, 13, 14, 15, 16,\n",
       "       17, 18, 19, 20, 21, 22, 23, 24])"
      ]
     },
     "execution_count": 487,
     "metadata": {},
     "output_type": "execute_result"
    }
   ],
   "source": [
    "arr = np.arange(25)\n",
    "arr"
   ]
  },
  {
   "cell_type": "code",
   "execution_count": 488,
   "id": "3ffbe334-c8fc-4f02-91c2-3d3fde1d3055",
   "metadata": {},
   "outputs": [
    {
     "data": {
      "text/plain": [
       "array([[ 0,  1,  2,  3,  4],\n",
       "       [ 5,  6,  7,  8,  9],\n",
       "       [10, 11, 12, 13, 14],\n",
       "       [15, 16, 17, 18, 19],\n",
       "       [20, 21, 22, 23, 24]])"
      ]
     },
     "execution_count": 488,
     "metadata": {},
     "output_type": "execute_result"
    }
   ],
   "source": [
    "arr.reshape(5,5)"
   ]
  },
  {
   "cell_type": "markdown",
   "id": "f66e8ed8-f4e5-449c-b16e-13b12286233a",
   "metadata": {},
   "source": [
    "#### - Shape: it is an attribute that arrays have (not a method)"
   ]
  },
  {
   "cell_type": "code",
   "execution_count": 489,
   "id": "f1e097f4-73cf-48aa-9f82-966ba048f643",
   "metadata": {},
   "outputs": [
    {
     "data": {
      "text/plain": [
       "array([ 0,  1,  2,  3,  4,  5,  6,  7,  8,  9, 10, 11, 12, 13, 14, 15, 16,\n",
       "       17, 18, 19, 20, 21, 22, 23, 24])"
      ]
     },
     "execution_count": 489,
     "metadata": {},
     "output_type": "execute_result"
    }
   ],
   "source": [
    "arr"
   ]
  },
  {
   "cell_type": "code",
   "execution_count": 490,
   "id": "7309e47b-e22b-4e9f-8566-c54b8dfe034a",
   "metadata": {},
   "outputs": [
    {
     "data": {
      "text/plain": [
       "(25,)"
      ]
     },
     "execution_count": 490,
     "metadata": {},
     "output_type": "execute_result"
    }
   ],
   "source": [
    "arr.shape"
   ]
  },
  {
   "cell_type": "code",
   "execution_count": 491,
   "id": "33101f3d-e627-4a6d-b885-cb833a5cc26f",
   "metadata": {},
   "outputs": [
    {
     "data": {
      "text/plain": [
       "(5, 5)"
      ]
     },
     "execution_count": 491,
     "metadata": {},
     "output_type": "execute_result"
    }
   ],
   "source": [
    "arr.reshape(5,5).shape"
   ]
  },
  {
   "cell_type": "code",
   "execution_count": 492,
   "id": "529725d9-ff70-48c1-b9db-f1c0d505624b",
   "metadata": {},
   "outputs": [
    {
     "data": {
      "text/plain": [
       "(1, 25)"
      ]
     },
     "execution_count": 492,
     "metadata": {},
     "output_type": "execute_result"
    }
   ],
   "source": [
    "arr.reshape(1,25).shape"
   ]
  },
  {
   "cell_type": "code",
   "execution_count": 493,
   "id": "80537f29-0981-4776-8702-37923d0089da",
   "metadata": {},
   "outputs": [
    {
     "data": {
      "text/plain": [
       "array([[8, 7, 3],\n",
       "       [1, 3, 7]])"
      ]
     },
     "execution_count": 493,
     "metadata": {},
     "output_type": "execute_result"
    }
   ],
   "source": [
    "arr2 = np.random.randint(0, 10, (2,3))\n",
    "arr2"
   ]
  },
  {
   "cell_type": "code",
   "execution_count": 494,
   "id": "d3c3da1f-31fa-4a86-9057-dbd2fb5a357a",
   "metadata": {},
   "outputs": [
    {
     "data": {
      "text/plain": [
       "(2, 3)"
      ]
     },
     "execution_count": 494,
     "metadata": {},
     "output_type": "execute_result"
    }
   ],
   "source": [
    "arr2.shape"
   ]
  },
  {
   "cell_type": "code",
   "execution_count": 495,
   "id": "f97fb942-c7e6-43fa-b673-44979ec109ce",
   "metadata": {},
   "outputs": [
    {
     "data": {
      "text/plain": [
       "(3, 2)"
      ]
     },
     "execution_count": 495,
     "metadata": {},
     "output_type": "execute_result"
    }
   ],
   "source": [
    "arr2.reshape(3,2).shape"
   ]
  },
  {
   "cell_type": "markdown",
   "id": "fce5029f-c658-49fa-aec5-5ac40c8d9c43",
   "metadata": {},
   "source": [
    "#### - max, min, argmax, argmin:\n",
    "useful methods for finding the max and min values, and find their corresponding index locations"
   ]
  },
  {
   "cell_type": "code",
   "execution_count": 496,
   "id": "a5235346-d12b-4604-9261-bbf73e0d9e75",
   "metadata": {},
   "outputs": [
    {
     "data": {
      "text/plain": [
       "array([46, 29, 23, 29, 22, 19, 49, 12, 33, 22])"
      ]
     },
     "execution_count": 496,
     "metadata": {},
     "output_type": "execute_result"
    }
   ],
   "source": [
    "randArr = np.random.randint(1, 50, 10)\n",
    "randArr"
   ]
  },
  {
   "cell_type": "code",
   "execution_count": 497,
   "id": "63ba2214-b43f-42d9-a0a0-a3517bb3efa3",
   "metadata": {},
   "outputs": [
    {
     "name": "stdout",
     "output_type": "stream",
     "text": [
      "49\n",
      "6\n",
      "12\n",
      "7\n"
     ]
    }
   ],
   "source": [
    "print(randArr.max())\n",
    "print(randArr.argmax())\n",
    "print(randArr.min())\n",
    "print(randArr.argmin())"
   ]
  },
  {
   "cell_type": "markdown",
   "id": "afad2cea-09bf-4b65-a237-5d64b80df426",
   "metadata": {},
   "source": [
    "#### - dtype: grab the data type of the object in the array"
   ]
  },
  {
   "cell_type": "code",
   "execution_count": 498,
   "id": "0d44c972-ba83-4394-8670-0912d3cb699f",
   "metadata": {},
   "outputs": [
    {
     "data": {
      "text/plain": [
       "dtype('int64')"
      ]
     },
     "execution_count": 498,
     "metadata": {},
     "output_type": "execute_result"
    }
   ],
   "source": [
    "randArr.dtype"
   ]
  },
  {
   "cell_type": "markdown",
   "id": "eb226e4c-b930-4337-ba9b-783955995dce",
   "metadata": {},
   "source": [
    "### Numpy Indexing and Selection"
   ]
  },
  {
   "cell_type": "markdown",
   "id": "3c640e6d-8788-4363-8708-6490baf6eb47",
   "metadata": {},
   "source": [
    "#### - Slicing\n",
    "- Extracting subarrays from numpy arrays (similar to slicing Python lists)\n",
    "#### array[start:stop:step]\n",
    "- start: where the slice starts (inclusive)\n",
    "- stop: where it ends (exclusive)\n",
    "- step: how many indices to skip"
   ]
  },
  {
   "cell_type": "markdown",
   "id": "d05de6ea-4b16-4e5a-ae2f-ec8405d8db4e",
   "metadata": {},
   "source": [
    "- 1D Slicing"
   ]
  },
  {
   "cell_type": "code",
   "execution_count": 515,
   "id": "11d71161-aa72-4d90-9f3d-424ff1c19a7b",
   "metadata": {},
   "outputs": [
    {
     "name": "stdout",
     "output_type": "stream",
     "text": [
      "[10 20 30]\n",
      "[20 30 40]\n",
      "[10 30 50]\n",
      "[50 40 30 20 10]\n"
     ]
    }
   ],
   "source": [
    "arr = np.array([10,20,30,40,50])\n",
    "\n",
    "print(arr[:3])\n",
    "print(arr[1:4])\n",
    "print(arr[::2]) \n",
    "print(arr[::-1]) # in reverse order"
   ]
  },
  {
   "cell_type": "markdown",
   "id": "46c31d85-324e-44a3-b589-82770e4fa305",
   "metadata": {},
   "source": [
    "- 2D Slicing"
   ]
  },
  {
   "cell_type": "code",
   "execution_count": 516,
   "id": "c74e2616-6cc2-4120-9a90-9d5bd33367c8",
   "metadata": {},
   "outputs": [
    {
     "name": "stdout",
     "output_type": "stream",
     "text": [
      "[1 2 3]\n",
      "[[1 2 3]]\n",
      "[[2 3]\n",
      " [5 6]]\n"
     ]
    }
   ],
   "source": [
    "arr = np.array([[1,2,3], \n",
    "                [4,5,6], \n",
    "                [7,8,9]])\n",
    "\n",
    "print(arr[0])       # equivalent to arr[0,:] -> slicing first rwo\n",
    "print(arr[:1])      # second column of each row\n",
    "print(arr[0:2,1:3]) # specifically slicing some elements"
   ]
  },
  {
   "cell_type": "markdown",
   "id": "26b8c487-3fe3-4def-b42d-420190399958",
   "metadata": {},
   "source": [
    "##### Note: \n",
    "- Slicing gives you the view of the array, if you change the view, the array will be changed directly"
   ]
  },
  {
   "cell_type": "code",
   "execution_count": 517,
   "id": "c8683455-3d8a-4d0c-94bd-a618adf73107",
   "metadata": {},
   "outputs": [
    {
     "name": "stdout",
     "output_type": "stream",
     "text": [
      "[1 2 3]\n",
      "[100   2   3   4   5]\n"
     ]
    }
   ],
   "source": [
    "arr = np.array([1,2,3,4,5])\n",
    "sub = arr[0:3] # slicing elements at index 0-2\n",
    "print(sub)\n",
    "sub[0] = 100   # assign new value to sliced array\n",
    "print(arr)     # the original array will be changed"
   ]
  },
  {
   "cell_type": "markdown",
   "id": "643a3b71-7f0e-41e6-a7ff-f4a6876686f5",
   "metadata": {},
   "source": [
    "- To have a independent copy of the array, using .copy()"
   ]
  },
  {
   "cell_type": "code",
   "execution_count": 518,
   "id": "5a48eb87-7f94-4472-8a16-47173ad53431",
   "metadata": {},
   "outputs": [
    {
     "data": {
      "text/plain": [
       "array([[4, 5, 6]])"
      ]
     },
     "execution_count": 518,
     "metadata": {},
     "output_type": "execute_result"
    }
   ],
   "source": [
    "arr = np.array([[1,2,3], [4,5,6]])\n",
    "sub_copy = arr[1:3].copy()\n",
    "sub_copy"
   ]
  },
  {
   "cell_type": "markdown",
   "id": "96d0eedc-56c6-45e6-b467-b3d936d38aac",
   "metadata": {},
   "source": [
    "#### - Brackect Indexing and Selection"
   ]
  },
  {
   "cell_type": "code",
   "execution_count": 499,
   "id": "76b063f5-f76b-4bc7-ab0d-a4cf17ca4240",
   "metadata": {},
   "outputs": [
    {
     "data": {
      "text/plain": [
       "array([1, 2, 3, 4, 5, 6, 7, 8, 9])"
      ]
     },
     "execution_count": 499,
     "metadata": {},
     "output_type": "execute_result"
    }
   ],
   "source": [
    "arr = np.arange(1, 10)\n",
    "arr"
   ]
  },
  {
   "cell_type": "code",
   "execution_count": 500,
   "id": "0c57b126-c041-4462-af43-3de3394695d7",
   "metadata": {},
   "outputs": [
    {
     "data": {
      "text/plain": [
       "6"
      ]
     },
     "execution_count": 500,
     "metadata": {},
     "output_type": "execute_result"
    }
   ],
   "source": [
    "int(arr[5]) # get the value at the index"
   ]
  },
  {
   "cell_type": "code",
   "execution_count": 501,
   "id": "c23b2852-d936-41cf-969c-8c4afb9ddc2f",
   "metadata": {},
   "outputs": [
    {
     "data": {
      "text/plain": [
       "array([2, 3, 4, 5])"
      ]
     },
     "execution_count": 501,
     "metadata": {},
     "output_type": "execute_result"
    }
   ],
   "source": [
    "arr[1:5] # get the values which index are at the range [1, 5)"
   ]
  },
  {
   "cell_type": "code",
   "execution_count": 502,
   "id": "e115a168-a695-4420-971d-426d0fecd71b",
   "metadata": {},
   "outputs": [
    {
     "data": {
      "text/plain": [
       "array([1, 2, 3, 4, 5])"
      ]
     },
     "execution_count": 502,
     "metadata": {},
     "output_type": "execute_result"
    }
   ],
   "source": [
    "arr[0:5]"
   ]
  },
  {
   "cell_type": "markdown",
   "id": "7fc25ceb-fb00-4241-abd9-9fb0fb3183a0",
   "metadata": {},
   "source": [
    "#### - Indexing 2D Arrays (Matrices)"
   ]
  },
  {
   "cell_type": "code",
   "execution_count": 503,
   "id": "68cabdba-5da6-48e5-b480-b85ef55ab290",
   "metadata": {},
   "outputs": [
    {
     "data": {
      "text/plain": [
       "array([[1, 2, 3],\n",
       "       [4, 5, 6],\n",
       "       [7, 8, 9]])"
      ]
     },
     "execution_count": 503,
     "metadata": {},
     "output_type": "execute_result"
    }
   ],
   "source": [
    "arr_2d = np.array([[1,2,3], [4,5,6], [7,8,9]])\n",
    "arr_2d"
   ]
  },
  {
   "cell_type": "code",
   "execution_count": 504,
   "id": "657dee28-8c67-45c1-86cf-c88ea264b925",
   "metadata": {},
   "outputs": [
    {
     "data": {
      "text/plain": [
       "array([1, 2, 3])"
      ]
     },
     "execution_count": 504,
     "metadata": {},
     "output_type": "execute_result"
    }
   ],
   "source": [
    "arr_2d[0] # indexing row"
   ]
  },
  {
   "cell_type": "code",
   "execution_count": 505,
   "id": "8f6931d4-b903-4ffc-b02d-1f16025f05f7",
   "metadata": {},
   "outputs": [
    {
     "data": {
      "text/plain": [
       "array([3, 6, 9])"
      ]
     },
     "execution_count": 505,
     "metadata": {},
     "output_type": "execute_result"
    }
   ],
   "source": [
    "arr_2d[:,2] # indexing column"
   ]
  },
  {
   "cell_type": "code",
   "execution_count": 506,
   "id": "27f847d6-2201-417c-ab77-055986dd44d5",
   "metadata": {},
   "outputs": [
    {
     "name": "stdout",
     "output_type": "stream",
     "text": [
      "3\n"
     ]
    }
   ],
   "source": [
    "print(arr_2d[0][2])"
   ]
  },
  {
   "cell_type": "markdown",
   "id": "ec6915d2-42e9-4ec4-bd18-450c8041c6d7",
   "metadata": {},
   "source": [
    "#### - Fancy Indexing\n",
    "- Allows you to select entire rows and columns out of order"
   ]
  },
  {
   "cell_type": "code",
   "execution_count": 507,
   "id": "014a2297-a389-4cf0-b34b-96decbdad791",
   "metadata": {},
   "outputs": [
    {
     "data": {
      "text/plain": [
       "array([[1, 2, 3],\n",
       "       [4, 5, 6],\n",
       "       [7, 8, 9]])"
      ]
     },
     "execution_count": 507,
     "metadata": {},
     "output_type": "execute_result"
    }
   ],
   "source": [
    "arr = np.array([[1,2,3], [4,5,6], [7,8,9]])\n",
    "arr"
   ]
  },
  {
   "cell_type": "code",
   "execution_count": 508,
   "id": "4cc495c3-282c-4be0-bc3d-6b6e38795e2e",
   "metadata": {},
   "outputs": [
    {
     "data": {
      "text/plain": [
       "array([[1, 2, 3],\n",
       "       [7, 8, 9]])"
      ]
     },
     "execution_count": 508,
     "metadata": {},
     "output_type": "execute_result"
    }
   ],
   "source": [
    "arr[[0,2]] # indexing specific rows"
   ]
  },
  {
   "cell_type": "code",
   "execution_count": 509,
   "id": "7e79c394-0bd1-4637-b8d2-b6ee09a34aa6",
   "metadata": {},
   "outputs": [
    {
     "data": {
      "text/plain": [
       "array([[7, 8, 9],\n",
       "       [1, 2, 3],\n",
       "       [4, 5, 6]])"
      ]
     },
     "execution_count": 509,
     "metadata": {},
     "output_type": "execute_result"
    }
   ],
   "source": [
    "# indexing in any order\n",
    "arr[[2,0,1]]"
   ]
  },
  {
   "cell_type": "code",
   "execution_count": 510,
   "id": "4944b889-bfa5-46b9-913c-e0c3b5dbd22c",
   "metadata": {},
   "outputs": [
    {
     "data": {
      "text/plain": [
       "array([1, 5, 9])"
      ]
     },
     "execution_count": 510,
     "metadata": {},
     "output_type": "execute_result"
    }
   ],
   "source": [
    "# indexing specific elements in any rows and columns\n",
    "row_indices = [0,1,2]\n",
    "col_indices = [0,1,2]\n",
    "arr[row_indices, col_indices]"
   ]
  },
  {
   "cell_type": "markdown",
   "id": "720098d0-3b14-4af0-883e-d3669231e586",
   "metadata": {},
   "source": [
    "#### - Selection\n",
    "- Using brackets for selection based off of comparison operators (< > =)"
   ]
  },
  {
   "cell_type": "code",
   "execution_count": 511,
   "id": "bd1c7f1e-73fc-42b2-874b-10bb70832584",
   "metadata": {},
   "outputs": [
    {
     "data": {
      "text/plain": [
       "array([ 1,  2,  3,  4,  5,  6,  7,  8,  9, 10])"
      ]
     },
     "execution_count": 511,
     "metadata": {},
     "output_type": "execute_result"
    }
   ],
   "source": [
    "arr = np.arange(1,11)\n",
    "arr"
   ]
  },
  {
   "cell_type": "code",
   "execution_count": 512,
   "id": "71a6a7e0-118c-4f80-8cc1-ae43d3afb734",
   "metadata": {},
   "outputs": [
    {
     "data": {
      "text/plain": [
       "array([False, False, False, False,  True,  True,  True,  True,  True,\n",
       "        True])"
      ]
     },
     "execution_count": 512,
     "metadata": {},
     "output_type": "execute_result"
    }
   ],
   "source": [
    "# based on the comparison operators\n",
    "# returns the array of booleans for each element\n",
    "arr > 4"
   ]
  },
  {
   "cell_type": "code",
   "execution_count": 513,
   "id": "74ff767f-e03d-439e-aaca-294c3be7638a",
   "metadata": {},
   "outputs": [
    {
     "data": {
      "text/plain": [
       "array([ 5,  6,  7,  8,  9, 10])"
      ]
     },
     "execution_count": 513,
     "metadata": {},
     "output_type": "execute_result"
    }
   ],
   "source": [
    "arr[arr > 4] # returns the array of elements that are true for the comparison"
   ]
  },
  {
   "cell_type": "code",
   "execution_count": 514,
   "id": "16fe9942-288a-4904-a4fc-c87350a2f0de",
   "metadata": {},
   "outputs": [
    {
     "data": {
      "text/plain": [
       "array([1, 2, 3])"
      ]
     },
     "execution_count": 514,
     "metadata": {},
     "output_type": "execute_result"
    }
   ],
   "source": [
    "arr[arr <= 3]"
   ]
  },
  {
   "cell_type": "markdown",
   "id": "79ed7677-cc8d-4936-b906-3878796fcfc1",
   "metadata": {},
   "source": [
    "#### - Broadcasting\n",
    "- Numpy arrays differ from a normal Python list because of their ability to broadcast\n",
    "- Broadcasting allows Numpy to vectorize operations across arrays with different but compatible shapes"
   ]
  },
  {
   "cell_type": "markdown",
   "id": "056677c6-cc4e-4b8a-96c2-93a3ee509cd5",
   "metadata": {},
   "source": [
    "##### Example 1: Scalar and Array"
   ]
  },
  {
   "cell_type": "code",
   "execution_count": 519,
   "id": "57c7300b-18c1-42f6-822e-4def74956849",
   "metadata": {},
   "outputs": [
    {
     "name": "stdout",
     "output_type": "stream",
     "text": [
      "[11 12 13]\n"
     ]
    }
   ],
   "source": [
    "arr = np.array([1,2,3])\n",
    "incre = 10\n",
    "\n",
    "result = arr + incre # broadcasting scalar 10 to [10, 10, 10]\n",
    "print(result)"
   ]
  },
  {
   "cell_type": "markdown",
   "id": "388d3cbb-05d3-410f-854e-85e74b40c063",
   "metadata": {},
   "source": [
    "##### Example 2: 2D and 1D Array"
   ]
  },
  {
   "cell_type": "code",
   "execution_count": 520,
   "id": "a545362e-82f1-4e86-95b4-326ada76f27f",
   "metadata": {},
   "outputs": [
    {
     "name": "stdout",
     "output_type": "stream",
     "text": [
      "[[11 22 33]\n",
      " [14 25 36]]\n"
     ]
    }
   ],
   "source": [
    "a = np.array([[1,2,3], \n",
    "              [4,5,6]]) # shpae: (2, 3)\n",
    "b = np.array([10, 20, 30]) # shape: (3,)\n",
    "\n",
    "# since a has 2 rows,\n",
    "# b is broadcasting to shape (2, 3):\n",
    "# [[10, 20, 30],\n",
    "#  [10, 20, 30]]\n",
    "result = a + b\n",
    "print(result)"
   ]
  },
  {
   "cell_type": "markdown",
   "id": "d8f4612b-d4dc-4631-9565-102e14497a73",
   "metadata": {},
   "source": [
    "##### Example 3: Incompatible Shapes (Error)"
   ]
  },
  {
   "cell_type": "code",
   "execution_count": 521,
   "id": "8ccb0359-88f3-4020-b6aa-c232f1e2501a",
   "metadata": {},
   "outputs": [
    {
     "name": "stdout",
     "output_type": "stream",
     "text": [
      "[[2 3 4]\n",
      " [3 4 5]]\n"
     ]
    }
   ],
   "source": [
    "a = np.array([1,2,3])\n",
    "b = np.array([[1], [2]])\n",
    "\n",
    "# b broadcasting to [[1,1,1], [2,2,2]]\n",
    "result = a + b\n",
    "print(result)"
   ]
  },
  {
   "cell_type": "markdown",
   "id": "1792b56c-08f5-4925-ad2a-7df513591d0c",
   "metadata": {},
   "source": [
    "### Numpy Operations\n",
    "#### - Arithmetic: addition, subtraction, multiplication, division"
   ]
  },
  {
   "cell_type": "code",
   "execution_count": 522,
   "id": "08ce600d-c97f-487f-ad0f-aab1fcd3ad8a",
   "metadata": {},
   "outputs": [],
   "source": [
    "arr = np.array([1,2,3,4,5])"
   ]
  },
  {
   "cell_type": "code",
   "execution_count": 523,
   "id": "8fd13897-f16a-474f-a653-0a831dba12de",
   "metadata": {},
   "outputs": [
    {
     "data": {
      "text/plain": [
       "array([ 2,  4,  6,  8, 10])"
      ]
     },
     "execution_count": 523,
     "metadata": {},
     "output_type": "execute_result"
    }
   ],
   "source": [
    "arr + arr"
   ]
  },
  {
   "cell_type": "code",
   "execution_count": 524,
   "id": "cdab85e1-70d2-4385-a1b0-0810f383a908",
   "metadata": {},
   "outputs": [
    {
     "data": {
      "text/plain": [
       "array([0, 0, 0, 0, 0])"
      ]
     },
     "execution_count": 524,
     "metadata": {},
     "output_type": "execute_result"
    }
   ],
   "source": [
    "arr - arr"
   ]
  },
  {
   "cell_type": "code",
   "execution_count": 525,
   "id": "3daddfd6-3686-447b-903a-0f5cfef7db37",
   "metadata": {},
   "outputs": [
    {
     "data": {
      "text/plain": [
       "array([ 1,  4,  9, 16, 25])"
      ]
     },
     "execution_count": 525,
     "metadata": {},
     "output_type": "execute_result"
    }
   ],
   "source": [
    "arr * arr"
   ]
  },
  {
   "cell_type": "code",
   "execution_count": 526,
   "id": "bfc03f06-004d-42f8-a8d1-9b1fcd37eb03",
   "metadata": {},
   "outputs": [
    {
     "data": {
      "text/plain": [
       "array([1., 1., 1., 1., 1.])"
      ]
     },
     "execution_count": 526,
     "metadata": {},
     "output_type": "execute_result"
    }
   ],
   "source": [
    "arr / arr"
   ]
  },
  {
   "cell_type": "code",
   "execution_count": 527,
   "id": "99e2e30c-4b00-4cc6-8913-85dcf0d5e36d",
   "metadata": {},
   "outputs": [
    {
     "data": {
      "text/plain": [
       "array([ 3,  6,  9, 12, 15])"
      ]
     },
     "execution_count": 527,
     "metadata": {},
     "output_type": "execute_result"
    }
   ],
   "source": [
    "arr * 3"
   ]
  },
  {
   "cell_type": "markdown",
   "id": "f04ad60c-e87f-41af-b8c4-2e0daf86b3ad",
   "metadata": {},
   "source": [
    "#### - Universal Array Functions"
   ]
  },
  {
   "cell_type": "code",
   "execution_count": 528,
   "id": "d08e5009-a83e-4850-81d9-103039478b53",
   "metadata": {},
   "outputs": [
    {
     "data": {
      "text/plain": [
       "array([1., 2., 3., 4., 5.])"
      ]
     },
     "execution_count": 528,
     "metadata": {},
     "output_type": "execute_result"
    }
   ],
   "source": [
    "arr = np.array([1,4,9,16,25])\n",
    "np.sqrt(arr) # taking square roots"
   ]
  },
  {
   "cell_type": "code",
   "execution_count": 529,
   "id": "84814de5-58df-4b4c-a326-f9621785cda3",
   "metadata": {},
   "outputs": [
    {
     "data": {
      "text/plain": [
       "array([2.71828183e+00, 5.45981500e+01, 8.10308393e+03, 8.88611052e+06,\n",
       "       7.20048993e+10])"
      ]
     },
     "execution_count": 529,
     "metadata": {},
     "output_type": "execute_result"
    }
   ],
   "source": [
    "np.exp(arr) # calculating exponential e^"
   ]
  },
  {
   "cell_type": "code",
   "execution_count": 530,
   "id": "9379df77-825f-4c3a-8709-5cee54dd26ee",
   "metadata": {},
   "outputs": [
    {
     "name": "stdout",
     "output_type": "stream",
     "text": [
      "25\n"
     ]
    }
   ],
   "source": [
    "print(np.max(arr)) # same as arr.max()"
   ]
  },
  {
   "cell_type": "code",
   "execution_count": 531,
   "id": "69faf355-4768-401a-83ed-a1d1bf3c3414",
   "metadata": {},
   "outputs": [
    {
     "data": {
      "text/plain": [
       "array([ 0.84147098, -0.7568025 ,  0.41211849, -0.28790332, -0.13235175])"
      ]
     },
     "execution_count": 531,
     "metadata": {},
     "output_type": "execute_result"
    }
   ],
   "source": [
    "np.sin(arr)"
   ]
  },
  {
   "cell_type": "code",
   "execution_count": 532,
   "id": "40083d6f-3b67-411e-a882-b2471d58a342",
   "metadata": {},
   "outputs": [
    {
     "data": {
      "text/plain": [
       "array([0.        , 1.38629436, 2.19722458, 2.77258872, 3.21887582])"
      ]
     },
     "execution_count": 532,
     "metadata": {},
     "output_type": "execute_result"
    }
   ],
   "source": [
    "np.log(arr)"
   ]
  }
 ],
 "metadata": {
  "kernelspec": {
   "display_name": "Python 3 (ipykernel)",
   "language": "python",
   "name": "python3"
  },
  "language_info": {
   "codemirror_mode": {
    "name": "ipython",
    "version": 3
   },
   "file_extension": ".py",
   "mimetype": "text/x-python",
   "name": "python",
   "nbconvert_exporter": "python",
   "pygments_lexer": "ipython3",
   "version": "3.13.3"
  }
 },
 "nbformat": 4,
 "nbformat_minor": 5
}
